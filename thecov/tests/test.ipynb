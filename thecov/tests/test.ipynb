{
 "cells": [
  {
   "cell_type": "markdown",
   "id": "fc7c9a97",
   "metadata": {},
   "source": [
    "## Multipole covariance"
   ]
  },
  {
   "cell_type": "code",
   "execution_count": 1,
   "id": "d071e4c1",
   "metadata": {},
   "outputs": [],
   "source": [
    "import sys\n",
    "sys.path.insert(1, '/home/oalves/thecov')\n",
    "import thecov.base\n",
    "import numpy as np"
   ]
  },
  {
   "cell_type": "code",
   "execution_count": 15,
   "id": "0041d761",
   "metadata": {},
   "outputs": [],
   "source": [
    "matrix_a = np.array([[1, 2], [3, 4]])\n",
    "matrix_b = np.array([[5, 6, 7], [8, 9, 10], [11,12,13]])\n",
    "matrix_c = np.array([[9, 10], [11, 12], [13,14]])\n",
    "matrix_d = np.array([[13, 14, 15], [16, 17, 18]])\n"
   ]
  },
  {
   "cell_type": "code",
   "execution_count": 16,
   "id": "298a31e6",
   "metadata": {},
   "outputs": [],
   "source": [
    "cov = thecov.base.MultipoleCovariance(symmetric=False)"
   ]
  },
  {
   "cell_type": "code",
   "execution_count": 19,
   "id": "f9903984",
   "metadata": {},
   "outputs": [],
   "source": [
    "cov.set_ell_cov(0,0,thecov.base.Covariance(matrix_a))\n",
    "cov.set_ell_cov(2,2,thecov.base.Covariance(matrix_b))\n",
    "cov.set_ell_cov(0,2,thecov.base.Covariance(matrix_d))\n",
    "cov.set_ell_cov(2,0,thecov.base.Covariance(matrix_c))"
   ]
  },
  {
   "cell_type": "code",
   "execution_count": 20,
   "id": "29e71813",
   "metadata": {},
   "outputs": [
    {
     "data": {
      "text/plain": [
       "array([[ 1,  2, 13, 14, 15],\n",
       "       [ 3,  4, 16, 17, 18],\n",
       "       [ 9, 10,  5,  6,  7],\n",
       "       [11, 12,  8,  9, 10],\n",
       "       [13, 14, 11, 12, 13]])"
      ]
     },
     "execution_count": 20,
     "metadata": {},
     "output_type": "execute_result"
    }
   ],
   "source": [
    "cov.cov"
   ]
  },
  {
   "cell_type": "code",
   "execution_count": 21,
   "id": "a5d2dabc",
   "metadata": {},
   "outputs": [
    {
     "ename": "AssertionError",
     "evalue": "Covariance matrix shape should be a multiple of the number of ells.",
     "output_type": "error",
     "traceback": [
      "\u001b[0;31m---------------------------------------------------------------------------\u001b[0m",
      "\u001b[0;31mAssertionError\u001b[0m                            Traceback (most recent call last)",
      "Cell \u001b[0;32mIn[21], line 1\u001b[0m\n\u001b[0;32m----> 1\u001b[0m cov\u001b[38;5;241m.\u001b[39mcov \u001b[38;5;241m=\u001b[39m cov\u001b[38;5;241m.\u001b[39mcov\n",
      "File \u001b[0;32m~/thecov/thecov/base.py:407\u001b[0m, in \u001b[0;36mMultipoleCovariance.cov\u001b[0;34m(self, cov)\u001b[0m\n\u001b[1;32m    404\u001b[0m ells1, ells2 \u001b[38;5;241m=\u001b[39m \u001b[38;5;28mself\u001b[39m\u001b[38;5;241m.\u001b[39mells\n\u001b[1;32m    406\u001b[0m \u001b[38;5;28;01massert\u001b[39;00m cov\u001b[38;5;241m.\u001b[39mndim \u001b[38;5;241m==\u001b[39m \u001b[38;5;241m2\u001b[39m, \u001b[38;5;124m\"\u001b[39m\u001b[38;5;124mCovariance should be a matrix (ndim == 1).\u001b[39m\u001b[38;5;124m\"\u001b[39m\n\u001b[0;32m--> 407\u001b[0m \u001b[38;5;28;01massert\u001b[39;00m cov\u001b[38;5;241m.\u001b[39mshape[\u001b[38;5;241m0\u001b[39m] \u001b[38;5;241m%\u001b[39m \u001b[38;5;28mlen\u001b[39m(ells1) \u001b[38;5;241m==\u001b[39m \u001b[38;5;241m0\u001b[39m, \\\n\u001b[1;32m    408\u001b[0m     \u001b[38;5;124m\"\u001b[39m\u001b[38;5;124mCovariance matrix shape should be a multiple of the number of ells.\u001b[39m\u001b[38;5;124m\"\u001b[39m\n\u001b[1;32m    409\u001b[0m \u001b[38;5;28;01massert\u001b[39;00m cov\u001b[38;5;241m.\u001b[39mshape[\u001b[38;5;241m1\u001b[39m] \u001b[38;5;241m%\u001b[39m \u001b[38;5;28mlen\u001b[39m(ells2) \u001b[38;5;241m==\u001b[39m \u001b[38;5;241m0\u001b[39m, \\\n\u001b[1;32m    410\u001b[0m     \u001b[38;5;124m\"\u001b[39m\u001b[38;5;124mCovariance matrix shape should be a multiple of the number of ells.\u001b[39m\u001b[38;5;124m\"\u001b[39m\n\u001b[1;32m    412\u001b[0m size1 \u001b[38;5;241m=\u001b[39m cov\u001b[38;5;241m.\u001b[39mshape[\u001b[38;5;241m0\u001b[39m]\u001b[38;5;241m/\u001b[39m\u001b[38;5;241m/\u001b[39m\u001b[38;5;28mlen\u001b[39m(ells1)\n",
      "\u001b[0;31mAssertionError\u001b[0m: Covariance matrix shape should be a multiple of the number of ells."
     ]
    }
   ],
   "source": [
    "cov.cov = cov.cov"
   ]
  },
  {
   "cell_type": "code",
   "execution_count": 12,
   "id": "767557fb",
   "metadata": {},
   "outputs": [
    {
     "data": {
      "text/plain": [
       "array([[ 1,  2, 13, 15],\n",
       "       [ 3,  4, 14, 16],\n",
       "       [13, 14,  5,  6],\n",
       "       [15, 16,  7,  8]])"
      ]
     },
     "execution_count": 12,
     "metadata": {},
     "output_type": "execute_result"
    }
   ],
   "source": [
    "cov.cov"
   ]
  },
  {
   "cell_type": "code",
   "execution_count": 13,
   "id": "1630e591",
   "metadata": {},
   "outputs": [
    {
     "data": {
      "text/plain": [
       "{(0, 0): <thecov.base.Covariance at 0x735d8c167550>,\n",
       " (2, 2): <thecov.base.Covariance at 0x735d8c1668c0>,\n",
       " (0, 2): <thecov.base.Covariance at 0x735d8c1653c0>}"
      ]
     },
     "execution_count": 13,
     "metadata": {},
     "output_type": "execute_result"
    }
   ],
   "source": [
    "cov._multipole_covariance"
   ]
  },
  {
   "cell_type": "code",
   "execution_count": 19,
   "id": "048cc2ca",
   "metadata": {},
   "outputs": [],
   "source": [
    "cov.ells = (0,2), (0,2,4)"
   ]
  },
  {
   "cell_type": "code",
   "execution_count": null,
   "id": "3cb35584",
   "metadata": {},
   "outputs": [],
   "source": []
  },
  {
   "cell_type": "code",
   "execution_count": 20,
   "id": "b245e325",
   "metadata": {},
   "outputs": [
    {
     "data": {
      "text/plain": [
       "{(0,\n",
       "  0): array([[0, 0],\n",
       "        [0, 0]]),\n",
       " (0, 2): None,\n",
       " (0, 4): None,\n",
       " (2, 2): None,\n",
       " (2, 4): None}"
      ]
     },
     "execution_count": 20,
     "metadata": {},
     "output_type": "execute_result"
    }
   ],
   "source": [
    "cov._multipole_covariance"
   ]
  },
  {
   "cell_type": "markdown",
   "id": "ef5857af",
   "metadata": {},
   "source": [
    "## Gaunt coefficients"
   ]
  },
  {
   "cell_type": "code",
   "execution_count": 1,
   "id": "1592bfd9",
   "metadata": {},
   "outputs": [],
   "source": [
    "import scipy\n",
    "import sympy.physics.wigner\n",
    "import numpy as np\n",
    "import itertools as itt\n",
    "import sys\n",
    "sys.path.insert(1, '/home/oalves/thecov')\n",
    "import thecov.base"
   ]
  },
  {
   "cell_type": "code",
   "execution_count": 2,
   "id": "d3b42fec",
   "metadata": {},
   "outputs": [],
   "source": [
    "# Define the shape of the multi-dimensional sparse array\n",
    "shape_out = (3, 3, 3, 3, 5, 5, 5, 5) # l1, l2, l3, l4, m1, m2, m3, m4\n",
    "shape_in = (7, 7, 13, 13) # la, lb, ma, mb"
   ]
  },
  {
   "cell_type": "code",
   "execution_count": null,
   "id": "edaed26b",
   "metadata": {},
   "outputs": [
    {
     "name": "stderr",
     "output_type": "stream",
     "text": [
      "/home/oalves/software/anaconda3/lib/python3.10/site-packages/scipy/sparse/_index.py:168: SparseEfficiencyWarning: Changing the sparsity structure of a csr_matrix is expensive. lil and dok are more efficient.\n",
      "  self._set_intXint(row, col, x.flat[0])\n"
     ]
    },
    {
     "data": {
      "text/plain": [
       "SparseNDArray(shape_out=[3 3 3 3 5 5 5 5] -> 50625, shape_in=[ 7  7 13 13] -> 8281, nnz=60125)"
      ]
     },
     "execution_count": 3,
     "metadata": {},
     "output_type": "execute_result"
    }
   ],
   "source": [
    "coefficients = thecov.base.SparseNDArray(shape_out, shape_in)\n",
    "\n",
    "for l1, l2, l3, l4 in itt.product((0,2,4), repeat=4):\n",
    "    for m1, m2, m3, m4 in itt.product(*[np.arange(-l, l+1, 2) for l in (l1, l2, l3, l4)]):\n",
    "        for la in np.arange(np.abs(l1-l4), l1+l4+1, 2):\n",
    "            for lb in np.arange(np.abs(l2-l3), l2+l3+1, 2):\n",
    "                for ma, mb in itt.product(*[np.arange(-l, l+1, 2) for l in (la, lb)]):\n",
    "                    value = np.float64(sympy.physics.wigner.gaunt(l1,l4,la,m1,m4,ma)*\\\n",
    "                                       sympy.physics.wigner.gaunt(l2,l3,lb,m2,m3,mb))\n",
    "                    if value != 0.:\n",
    "                        coefficients[l1//2,l2//2,l3//2,l4//2,\n",
    "                                     m1//2+2,m2//2+2,m3//2+2,m4//2+2,\n",
    "                                     la//2,lb//2,\n",
    "                                     ma//2+6,mb//2+6] += value\n",
    "                        \n",
    "        for lc in np.arange(np.abs(l1-l2), l1+l2+1, 2):\n",
    "            for la in np.arange(np.abs(lc-l4), lc+l4+1, 2):\n",
    "                for ma, mc in itt.product(*[np.arange(-l, l+1, 2) for l in (la, lc)]):\n",
    "                    value = np.float64(sympy.physics.wigner.gaunt(l1,l2,lc,m1,m2,mc)*\\\n",
    "                                       sympy.physics.wigner.gaunt(lc,l4,la,mc,m4,ma))\n",
    "                    lb, mb = l3, m3\n",
    "                    if value != 0.:\n",
    "                        coefficients[l1//2,l2//2,l3//2,l4//2,\n",
    "                                     m1//2+2,m2//2+2,m3//2+2,m4//2+2,\n",
    "                                     la//2,lb//2,\n",
    "                                     ma//2+6,mb//2+6] += value\n",
    "coefficients"
   ]
  },
  {
   "cell_type": "code",
   "execution_count": 4,
   "id": "f9b0c0ef",
   "metadata": {},
   "outputs": [],
   "source": [
    "coefficients.save('cosmic_variance_coefficients.npz')"
   ]
  },
  {
   "cell_type": "code",
   "execution_count": 3,
   "id": "4f0c7029",
   "metadata": {},
   "outputs": [
    {
     "data": {
      "text/plain": [
       "SparseNDArray(shape_out=[3 3 3 3 5 5 5 5] -> 50625, shape_in=[ 7  7 13 13] -> 8281, nnz=60125)"
      ]
     },
     "execution_count": 3,
     "metadata": {},
     "output_type": "execute_result"
    }
   ],
   "source": [
    "coefficients = thecov.base.SparseNDArray.load('cosmic_variance_coefficients.npz')\n",
    "coefficients"
   ]
  },
  {
   "cell_type": "code",
   "execution_count": 5,
   "id": "8dbf0a20",
   "metadata": {},
   "outputs": [
    {
     "data": {
      "text/plain": [
       "(50625, 3)"
      ]
     },
     "execution_count": 5,
     "metadata": {},
     "output_type": "execute_result"
    }
   ],
   "source": [
    "(coefficients @ np.ones((*shape_in, 3))).shape"
   ]
  },
  {
   "cell_type": "code",
   "execution_count": null,
   "id": "7ef881a5",
   "metadata": {},
   "outputs": [],
   "source": []
  }
 ],
 "metadata": {
  "kernelspec": {
   "display_name": "base",
   "language": "python",
   "name": "python3"
  },
  "language_info": {
   "codemirror_mode": {
    "name": "ipython",
    "version": 3
   },
   "file_extension": ".py",
   "mimetype": "text/x-python",
   "name": "python",
   "nbconvert_exporter": "python",
   "pygments_lexer": "ipython3",
   "version": "3.10.9"
  }
 },
 "nbformat": 4,
 "nbformat_minor": 5
}
