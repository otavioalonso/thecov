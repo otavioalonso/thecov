{
 "cells": [
  {
   "cell_type": "markdown",
   "id": "fc7c9a97",
   "metadata": {},
   "source": [
    "## Multipole covariance"
   ]
  },
  {
   "cell_type": "code",
   "execution_count": null,
   "id": "d071e4c1",
   "metadata": {},
   "outputs": [],
   "source": [
    "import sys\n",
    "sys.path.insert(1, '/home/joeadamo/Research/SPHEREx/thecov')\n",
    "import thecov.base as base\n",
    "import thecov.math as math\n",
    "import numpy as np\n",
    "from thecov import SurveyGeometry, GaussianCovariance\n",
    "import mockfactory\n",
    "import cosmoprimo"
   ]
  },
  {
   "cell_type": "code",
   "execution_count": null,
   "id": "0041d761",
   "metadata": {},
   "outputs": [],
   "source": [
    "# Define random catalogs\n",
    "random_file = \"/home/joeadamo/Research/SPHEREx/thecov/data/LRG_ffa_NGC_0_clustering.ran.fits\"\n",
    "randoms = mockfactory.Catalog.read(random_file)\n",
    "\n",
    "# Define fiducial cosmology used in calculations\n",
    "cosmo = cosmoprimo.fiducial.DESI()\n",
    "\n",
    "# Should define FKP weights column with this name\n",
    "# randoms['WEIGHT_FKP'] = 1./(1. + 1e4*randoms['NZ'])  # FKP weights are optional\n",
    "\n",
    "# Convert sky coordinates to cartesian using fiducial cosmology\n",
    "randoms['POSITION'] = mockfactory.utils.sky_to_cartesian(\n",
    "                          cosmo.comoving_radial_distance(randoms['Z']),\n",
    "                          randoms['RA'],\n",
    "                          randoms['DEC'],\n",
    "                          degree=True)\n"
   ]
  },
  {
   "cell_type": "code",
   "execution_count": null,
   "id": "e4e9a9f3",
   "metadata": {},
   "outputs": [],
   "source": [
    "# define SurveyGeometry object\n",
    "alpha = 0.1\n",
    "\n",
    "nmesh=16\n",
    "boxsize=4000\n",
    "boxpad = 1.4\n",
    "kmin = 0\n",
    "kmax = 0.01\n",
    "dk = 0.005\n",
    "nthreads = 4\n",
    "mask_ellmax = 6\n",
    "\n",
    "geometry = SurveyGeometry(randoms, alpha, nmesh=nmesh, boxpad=boxpad, \n",
    "                          kmin=kmin, kmax=kmax, dk=dk, mask_ellmax=mask_ellmax,\n",
    "                          nthreads=nthreads, sample_mode='monte-carlo')\n"
   ]
  },
  {
   "cell_type": "code",
   "execution_count": null,
   "id": "9c033cfa",
   "metadata": {},
   "outputs": [],
   "source": [
    "geometry.compute_window_kernels()"
   ]
  },
  {
   "cell_type": "code",
   "execution_count": null,
   "id": "8d7259b1",
   "metadata": {},
   "outputs": [],
   "source": [
    "import itertools as itt\n",
    "W_ABCD = base.SparseNDArray.load(\"/home/joeadamo/Research/SPHEREx/thecov/thecov/cache/W_ABCD.npz\")\n",
    "pk_ellmax=4\n",
    "delta_k_max = 3\n",
    "\n",
    "G = geometry.get_gaunt_coefficients(mask_ellmax=mask_ellmax, pk_ellmax=pk_ellmax)\n",
    "\n",
    "product = G @ W_ABCD\n",
    "result = np.zeros((list(product.shape_in) + [3,3,3,3]), dtype=np.complex128)\n",
    "\n",
    "WinKernel = np.zeros((2*delta_k_max+1, pk_ellmax//2+1, pk_ellmax//2+1, pk_ellmax//2+1, pk_ellmax//2+1), dtype=np.float64)\n",
    "\n",
    "print(WinKernel.shape)\n",
    "# print(G.shape_in, G.shape_out)\n",
    "# print(W_ABCD.shape_in, W_ABCD.shape_out)\n",
    "print(product.shape_in, product.shape_out)\n",
    "print(f\"result takes up {result.nbytes/1024/1024}MB\")\n",
    "\n",
    "# product = [4,4,4] [3,3,3,3,9,9,9,9]\n",
    "\n",
    "# result = [7,3,3,3,3]\n",
    "\n",
    "for l in range(0, pk_ellmax+1, 2):\n",
    "    l_idx = int(l / 2)\n",
    "\n",
    "    #print(l, l_idx)\n",
    "\n",
    "# NOTE: This for-loop is slow!\n",
    "for l1, l2, l3, l4 in itt.product(np.arange(0, pk_ellmax+1, 2), repeat=4):\n",
    "    l1_idx = int(l1 / 2)\n",
    "    l2_idx = int(l2 / 2)\n",
    "    l3_idx = int(l3 / 2)\n",
    "    l4_idx = int(l4 / 2)\n",
    "    \n",
    "    for m1, m2, m3, m4 in itt.product(*[np.arange(-l, l+1, 2) for l in (l1, l2, l3, l4)]):\n",
    "        m1_idx = (m1 + l1) / 2\n",
    "        m2_idx = (m2 + l2) / 2\n",
    "        m3_idx = (m3 + l3) / 2\n",
    "        m4_idx = (m4 + l4) / 2\n",
    "\n",
    "        W_times_G = product[l1_idx,l2_idx,l3_idx,l4_idx,m1_idx,m2_idx,m3_idx,m4_idx]\n",
    "        #print(test.shape)\n",
    "        W_times_G *= 2.12\n",
    "        result[:,:,:,l1_idx,l2_idx,l3_idx,l4_idx] = W_times_G.toarray().reshape(product.shape_in)\n",
    "        #result[l1_idx,l2_idx,l3_idx,l4_idx] += product[l1_idx,l2_idx,l3_idx,l4_idx,m1_idx,m2_idx,m3_idx,m4_idx]# * \\\n",
    "                                # math.get_real_Ylm(l1, m1)(k1xh, k1yh, k1zh) * \\\n",
    "                                # math.get_real_Ylm(l2, m2)(k2xh, k2yh, k2zh) * \\\n",
    "                                # math.get_real_Ylm(l3, m3)(k1xh, k1yh, k1zh) * \\\n",
    "                                # math.get_real_Ylm(l4, m4)(k2xh, k2yh, k2zh)\n",
    "        assert 1 == 0\n",
    "\n",
    "# for delta_k in range(-delta_k_max, delta_k_max + 1):\n",
    "#         modes = (k2_bin_index - k1_bin_index == delta_k)\n",
    "#         WinKernel[delta_k] = result[modes]"
   ]
  },
  {
   "cell_type": "code",
   "execution_count": null,
   "id": "3a3ac979",
   "metadata": {},
   "outputs": [],
   "source": [
    "kmin = 0\n",
    "kmax = 0.05\n",
    "dk = 0.005\n",
    "boxsize=8000\n",
    "kmodes_sampled = 1000\n",
    "kmodes, Nmodes, weights = math.sample_kmodes(kmin=kmin,\n",
    "                                                kmax=kmax,\n",
    "                                                dk=dk,\n",
    "                                                boxsize=boxsize,\n",
    "                                                max_modes=kmodes_sampled,\n",
    "                                                k_shell_approx=0.1,\n",
    "                                                sample_mode=\"monte-carlo\")\n",
    "\n",
    "print(kmodes[10].shape, weights[10])\n",
    "print(len(kmodes), len(weights))"
   ]
  },
  {
   "cell_type": "code",
   "execution_count": null,
   "id": "cfa00b3c",
   "metadata": {},
   "outputs": [],
   "source": []
  },
  {
   "cell_type": "markdown",
   "id": "e1a5338f",
   "metadata": {},
   "source": [
    "## Old test code"
   ]
  },
  {
   "cell_type": "code",
   "execution_count": null,
   "id": "c919b391",
   "metadata": {},
   "outputs": [],
   "source": [
    "matrix_a = np.array([[1, 2], [3, 4]])\n",
    "matrix_b = np.array([[5, 6, 7], [8, 9, 10], [11,12,13]])\n",
    "matrix_c = np.array([[9, 10], [11, 12], [13,14]])\n",
    "matrix_d = np.array([[13, 14, 15], [16, 17, 18]])\n"
   ]
  },
  {
   "cell_type": "code",
   "execution_count": null,
   "id": "298a31e6",
   "metadata": {},
   "outputs": [],
   "source": [
    "cov = thecov.base.MultipoleCovariance(symmetric=False)"
   ]
  },
  {
   "cell_type": "code",
   "execution_count": null,
   "id": "f9903984",
   "metadata": {},
   "outputs": [],
   "source": [
    "cov.set_ell_cov(0,0,thecov.base.Covariance(matrix_a))\n",
    "cov.set_ell_cov(2,2,thecov.base.Covariance(matrix_b))\n",
    "cov.set_ell_cov(0,2,thecov.base.Covariance(matrix_d))\n",
    "cov.set_ell_cov(2,0,thecov.base.Covariance(matrix_c))"
   ]
  },
  {
   "cell_type": "code",
   "execution_count": null,
   "id": "29e71813",
   "metadata": {},
   "outputs": [],
   "source": [
    "cov.cov"
   ]
  },
  {
   "cell_type": "code",
   "execution_count": null,
   "id": "a5d2dabc",
   "metadata": {},
   "outputs": [],
   "source": [
    "cov.cov = cov.cov"
   ]
  },
  {
   "cell_type": "code",
   "execution_count": null,
   "id": "767557fb",
   "metadata": {},
   "outputs": [],
   "source": [
    "cov.cov"
   ]
  },
  {
   "cell_type": "code",
   "execution_count": null,
   "id": "1630e591",
   "metadata": {},
   "outputs": [],
   "source": [
    "cov._multipole_covariance"
   ]
  },
  {
   "cell_type": "code",
   "execution_count": null,
   "id": "048cc2ca",
   "metadata": {},
   "outputs": [],
   "source": [
    "cov.ells = (0,2), (0,2,4)"
   ]
  },
  {
   "cell_type": "code",
   "execution_count": null,
   "id": "3cb35584",
   "metadata": {},
   "outputs": [],
   "source": []
  },
  {
   "cell_type": "code",
   "execution_count": null,
   "id": "b245e325",
   "metadata": {},
   "outputs": [],
   "source": [
    "cov._multipole_covariance"
   ]
  },
  {
   "cell_type": "markdown",
   "id": "ef5857af",
   "metadata": {},
   "source": [
    "## Gaunt coefficients"
   ]
  },
  {
   "cell_type": "code",
   "execution_count": null,
   "id": "1592bfd9",
   "metadata": {},
   "outputs": [],
   "source": [
    "import scipy\n",
    "import sympy.physics.wigner\n",
    "import numpy as np\n",
    "import itertools as itt\n",
    "import sys\n",
    "sys.path.insert(1, '/home/oalves/thecov')\n",
    "import thecov.base"
   ]
  },
  {
   "cell_type": "code",
   "execution_count": null,
   "id": "d3b42fec",
   "metadata": {},
   "outputs": [],
   "source": [
    "# Define the shape of the multi-dimensional sparse array\n",
    "shape_out = (3, 3, 3, 3, 5, 5, 5, 5) # l1, l2, l3, l4, m1, m2, m3, m4\n",
    "shape_in = (7, 7, 13, 13) # la, lb, ma, mb"
   ]
  },
  {
   "cell_type": "code",
   "execution_count": null,
   "id": "edaed26b",
   "metadata": {},
   "outputs": [],
   "source": [
    "coefficients = thecov.base.SparseNDArray(shape_out, shape_in)\n",
    "\n",
    "for l1, l2, l3, l4 in itt.product((0,2,4), repeat=4):\n",
    "    for m1, m2, m3, m4 in itt.product(*[np.arange(-l, l+1, 2) for l in (l1, l2, l3, l4)]):\n",
    "        for la in np.arange(np.abs(l1-l4), l1+l4+1, 2):\n",
    "            for lb in np.arange(np.abs(l2-l3), l2+l3+1, 2):\n",
    "                for ma, mb in itt.product(*[np.arange(-l, l+1, 2) for l in (la, lb)]):\n",
    "                    value = np.float64(sympy.physics.wigner.gaunt(l1,l4,la,m1,m4,ma)*\\\n",
    "                                       sympy.physics.wigner.gaunt(l2,l3,lb,m2,m3,mb))\n",
    "                    if value != 0.:\n",
    "                        coefficients[l1//2,l2//2,l3//2,l4//2,\n",
    "                                     m1//2+2,m2//2+2,m3//2+2,m4//2+2,\n",
    "                                     la//2,lb//2,\n",
    "                                     ma//2+6,mb//2+6] += value\n",
    "                        \n",
    "        for lc in np.arange(np.abs(l1-l2), l1+l2+1, 2):\n",
    "            for la in np.arange(np.abs(lc-l4), lc+l4+1, 2):\n",
    "                for ma, mc in itt.product(*[np.arange(-l, l+1, 2) for l in (la, lc)]):\n",
    "                    value = np.float64(sympy.physics.wigner.gaunt(l1,l2,lc,m1,m2,mc)*\\\n",
    "                                       sympy.physics.wigner.gaunt(lc,l4,la,mc,m4,ma))\n",
    "                    lb, mb = l3, m3\n",
    "                    if value != 0.:\n",
    "                        coefficients[l1//2,l2//2,l3//2,l4//2,\n",
    "                                     m1//2+2,m2//2+2,m3//2+2,m4//2+2,\n",
    "                                     la//2,lb//2,\n",
    "                                     ma//2+6,mb//2+6] += value\n",
    "coefficients"
   ]
  },
  {
   "cell_type": "code",
   "execution_count": null,
   "id": "51ecc5ee",
   "metadata": {},
   "outputs": [],
   "source": [
    "pk[0:300:5]"
   ]
  },
  {
   "cell_type": "code",
   "execution_count": null,
   "id": "a0e6f3ac-7cef-44bb-928c-05d6562c4fe2",
   "metadata": {},
   "outputs": [],
   "source": [
    "60125/(50625*8281)"
   ]
  },
  {
   "cell_type": "code",
   "execution_count": null,
   "id": "f9b0c0ef",
   "metadata": {},
   "outputs": [],
   "source": [
    "coefficients.save('cosmic_variance_coefficients.npz')"
   ]
  },
  {
   "cell_type": "code",
   "execution_count": null,
   "id": "4f0c7029",
   "metadata": {},
   "outputs": [],
   "source": [
    "coefficients = thecov.base.SparseNDArray.load('cosmic_variance_coefficients.npz')\n",
    "coefficients"
   ]
  },
  {
   "cell_type": "code",
   "execution_count": null,
   "id": "8dbf0a20",
   "metadata": {},
   "outputs": [],
   "source": [
    "(coefficients @ np.ones((*shape_in, 3))).shape"
   ]
  },
  {
   "cell_type": "code",
   "execution_count": null,
   "id": "7ef881a5",
   "metadata": {},
   "outputs": [],
   "source": []
  }
 ],
 "metadata": {
  "kernelspec": {
   "display_name": "thecov",
   "language": "python",
   "name": "python3"
  },
  "language_info": {
   "codemirror_mode": {
    "name": "ipython",
    "version": 3
   },
   "file_extension": ".py",
   "mimetype": "text/x-python",
   "name": "python",
   "nbconvert_exporter": "python",
   "pygments_lexer": "ipython3",
   "version": "3.11.13"
  }
 },
 "nbformat": 4,
 "nbformat_minor": 5
}
